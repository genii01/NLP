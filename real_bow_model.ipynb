{
 "cells": [
  {
   "cell_type": "code",
   "execution_count": 23,
   "metadata": {},
   "outputs": [
    {
     "name": "stdout",
     "output_type": "stream",
     "text": [
      "konlpy version = 0.5.2\n"
     ]
    }
   ],
   "source": [
    "import os, time\n",
    "import pandas as pd\n",
    "import numpy as np\n",
    "import matplotlib.pyplot as plt\n",
    "import tensorflow.keras\n",
    "import konlpy\n",
    "import nltk\n",
    "# tokenizer import\n",
    "from konlpy.tag import Komoran, Mecab, Okt, Twitter\n",
    "%matplotlib inline\n",
    "print('konlpy version = {}'.format(konlpy.__version__))"
   ]
  },
  {
   "cell_type": "code",
   "execution_count": 172,
   "metadata": {},
   "outputs": [],
   "source": [
    "dataset = pd.read_csv('total_dataset.csv', index_col = False)"
   ]
  },
  {
   "cell_type": "code",
   "execution_count": 173,
   "metadata": {},
   "outputs": [],
   "source": [
    "dataset = dataset.sample(frac=1).reset_index(drop=True)"
   ]
  },
  {
   "cell_type": "code",
   "execution_count": 174,
   "metadata": {},
   "outputs": [],
   "source": [
    "train_data = dataset[:round(dataset.shape[0]*0.9)]"
   ]
  },
  {
   "cell_type": "code",
   "execution_count": 175,
   "metadata": {},
   "outputs": [],
   "source": [
    "test_data = dataset[round(dataset.shape[0]*0.9):]"
   ]
  },
  {
   "cell_type": "code",
   "execution_count": 176,
   "metadata": {},
   "outputs": [
    {
     "data": {
      "text/plain": [
       "1    24648\n",
       "0    24573\n",
       "Name: rank, dtype: int64"
      ]
     },
     "execution_count": 176,
     "metadata": {},
     "output_type": "execute_result"
    }
   ],
   "source": [
    "train_data['rank'].value_counts()"
   ]
  },
  {
   "cell_type": "code",
   "execution_count": 177,
   "metadata": {},
   "outputs": [
    {
     "data": {
      "text/plain": [
       "0    2774\n",
       "1    2695\n",
       "Name: rank, dtype: int64"
      ]
     },
     "execution_count": 177,
     "metadata": {},
     "output_type": "execute_result"
    }
   ],
   "source": [
    "test_data['rank'].value_counts()"
   ]
  },
  {
   "cell_type": "code",
   "execution_count": 178,
   "metadata": {},
   "outputs": [],
   "source": [
    "del dataset"
   ]
  },
  {
   "cell_type": "code",
   "execution_count": 71,
   "metadata": {},
   "outputs": [],
   "source": [
    "# ko_tokenizer = Komoran()\n",
    "# stopwords =['']"
   ]
  },
  {
   "cell_type": "code",
   "execution_count": null,
   "metadata": {},
   "outputs": [],
   "source": [
    "# train_data.astype({'contents':'object'}).dtypes"
   ]
  },
  {
   "cell_type": "code",
   "execution_count": 14,
   "metadata": {},
   "outputs": [],
   "source": [
    "# train_data = pd.read_csv('real_train_data.csv', index_col = False)\n",
    "# test_data = pd.read_csv('real_test_data.csv', index_col = False)"
   ]
  },
  {
   "cell_type": "code",
   "execution_count": 179,
   "metadata": {},
   "outputs": [],
   "source": [
    "train_data['contents'] = train_data['contents'].str.replace(\"[^ㄱ-ㅎㅏ-ㅣ가-힣 ]\",\"\")"
   ]
  },
  {
   "cell_type": "code",
   "execution_count": 180,
   "metadata": {},
   "outputs": [],
   "source": [
    "test_data['contents'] = test_data['contents'].str.replace(\"[^ㄱ-ㅎㅏ-ㅣ가-힣 ]\",\"\")"
   ]
  },
  {
   "cell_type": "code",
   "execution_count": 181,
   "metadata": {},
   "outputs": [],
   "source": [
    "train_data.drop(train_data[train_data.contents == ' '].index, inplace=True)\n",
    "train_data.drop(train_data[train_data.contents == '  '].index, inplace=True)\n",
    "train_data.drop(train_data[train_data.contents == '   '].index, inplace=True)\n",
    "train_data.drop(train_data[train_data.contents == '    '].index, inplace=True)\n",
    "train_data.drop(train_data[train_data.contents == '     '].index, inplace=True)\n",
    "train_data.drop(train_data[train_data.contents == '      '].index, inplace=True)\n",
    "train_data.drop(train_data[train_data.contents == '       '].index, inplace=True)\n",
    "train_data.drop(train_data[train_data.contents == '        '].index, inplace=True)"
   ]
  },
  {
   "cell_type": "code",
   "execution_count": 182,
   "metadata": {},
   "outputs": [],
   "source": [
    "test_data.drop(test_data[test_data.contents == ' '].index, inplace=True)\n",
    "test_data.drop(test_data[test_data.contents == '  '].index, inplace=True)\n",
    "test_data.drop(test_data[test_data.contents == '   '].index, inplace=True)\n",
    "test_data.drop(test_data[test_data.contents == '    '].index, inplace=True)\n",
    "test_data.drop(test_data[test_data.contents == '     '].index, inplace=True)\n",
    "test_data.drop(test_data[test_data.contents == '      '].index, inplace=True)\n",
    "test_data.drop(test_data[test_data.contents == '       '].index, inplace=True)\n",
    "test_data.drop(test_data[test_data.contents == '        '].index, inplace=True)"
   ]
  },
  {
   "cell_type": "code",
   "execution_count": 183,
   "metadata": {},
   "outputs": [],
   "source": [
    "train_data.dropna(subset = ['contents'], inplace = True)\n",
    "test_data.dropna(subset = ['contents'], inplace = True)"
   ]
  },
  {
   "cell_type": "code",
   "execution_count": null,
   "metadata": {},
   "outputs": [],
   "source": [
    "ko_tokenizer = Komoran()\n",
    "stopwords =['']"
   ]
  },
  {
   "cell_type": "code",
   "execution_count": 184,
   "metadata": {},
   "outputs": [
    {
     "name": "stdout",
     "output_type": "stream",
     "text": [
      "sentence tokenizing time = 51.84955286979675 sec\n"
     ]
    }
   ],
   "source": [
    "s = time.time()\n",
    "x_train = []\n",
    "for i, sentence in enumerate(train_data.contents):\n",
    "    temp_X = []\n",
    "#     print(i)\n",
    "    temp_X = list(ko_tokenizer.morphs(sentence)) # 토큰화\n",
    "    temp_X = [word for word in temp_X if not word in stopwords] # 불용어 제거\n",
    "    x_train.append(temp_X)\n",
    "    \n",
    "print('sentence tokenizing time = {} sec'.format(time.time()-s))"
   ]
  },
  {
   "cell_type": "code",
   "execution_count": 185,
   "metadata": {},
   "outputs": [
    {
     "name": "stdout",
     "output_type": "stream",
     "text": [
      "sentence tokenizing time = 5.605151891708374 sec\n"
     ]
    }
   ],
   "source": [
    "s = time.time()\n",
    "x_test = []\n",
    "for sentence in test_data['contents']:\n",
    "    temp_X = []\n",
    "    temp_X = ko_tokenizer.morphs(sentence) # 토큰화\n",
    "    temp_X = [word for word in temp_X if not word in stopwords] # 불용어 제거\n",
    "    x_test.append(temp_X)\n",
    "\n",
    "print('sentence tokenizing time = {} sec'.format(time.time()-s))"
   ]
  },
  {
   "cell_type": "code",
   "execution_count": 186,
   "metadata": {},
   "outputs": [],
   "source": [
    "tokens = [t for d in x_train for t in d]"
   ]
  },
  {
   "cell_type": "code",
   "execution_count": 187,
   "metadata": {},
   "outputs": [
    {
     "data": {
      "text/plain": [
       "1675788"
      ]
     },
     "execution_count": 187,
     "metadata": {},
     "output_type": "execute_result"
    }
   ],
   "source": [
    "len(tokens)"
   ]
  },
  {
   "cell_type": "code",
   "execution_count": 188,
   "metadata": {},
   "outputs": [],
   "source": [
    "text = nltk.Text(tokens, name = 'NMSC')"
   ]
  },
  {
   "cell_type": "code",
   "execution_count": 189,
   "metadata": {},
   "outputs": [
    {
     "name": "stdout",
     "output_type": "stream",
     "text": [
      "1675788\n",
      "26083\n",
      "[('하', 84242), ('이', 57891), ('고', 42129), ('ㄴ', 29169), ('았', 28641), ('에', 27309), ('는', 26035), ('도', 23689), ('네요', 23281), ('어', 21088)]\n"
     ]
    }
   ],
   "source": [
    "#total token num\n",
    "print(len(text.tokens))\n",
    "#중복 제외한 토큰 개수\n",
    "print(len((set(text.tokens))))\n",
    "# 출현 빈도가 높은 상위 토큰 10개\n",
    "print(text.vocab().most_common(10))"
   ]
  },
  {
   "cell_type": "code",
   "execution_count": null,
   "metadata": {},
   "outputs": [],
   "source": [
    "# import json\n",
    "# import os \n",
    "# from pprint import pprint\n",
    "\n",
    "# def tokenizer(doc):\n",
    "#     # norm은 정규화, stem은 근어로 표시하기를 나타냄\n",
    "#     komoran = Komoran()\n",
    "#     return ['/'.join(t) for t in komoran.pos(doc)]"
   ]
  },
  {
   "cell_type": "code",
   "execution_count": 190,
   "metadata": {
    "scrolled": false
   },
   "outputs": [
    {
     "data": {
      "image/png": "[encoded data removed]",
      "text/plain": [
       "<Figure size 1440x720 with 1 Axes>"
      ]
     },
     "metadata": {
      "needs_background": "light"
     },
     "output_type": "display_data"
    }
   ],
   "source": [
    "import matplotlib.pyplot as plt\n",
    "from matplotlib import font_manager, rc\n",
    "%matplotlib inline\n",
    "\n",
    "font_fname = '/Library/Fonts/AppleGothic.ttf'\n",
    "font_name = font_manager.FontProperties(fname=font_fname).get_name()\n",
    "rc('font', family=font_name)\n",
    "\n",
    "plt.figure(figsize=(20,10))\n",
    "text.plot(50)"
   ]
  },
  {
   "cell_type": "code",
   "execution_count": 191,
   "metadata": {},
   "outputs": [
    {
     "data": {
      "text/plain": [
       "26083"
      ]
     },
     "execution_count": 191,
     "metadata": {},
     "output_type": "execute_result"
    }
   ],
   "source": [
    "len(text.vocab())"
   ]
  },
  {
   "cell_type": "code",
   "execution_count": 192,
   "metadata": {},
   "outputs": [],
   "source": [
    "selected_words = [f[0] for f in text.vocab().most_common(len(text.vocab()))]"
   ]
  },
  {
   "cell_type": "code",
   "execution_count": 193,
   "metadata": {},
   "outputs": [
    {
     "data": {
      "text/plain": [
       "['물건',\n",
       " '이',\n",
       " '오기',\n",
       " '도전',\n",
       " '에',\n",
       " '반품',\n",
       " '이',\n",
       " '되',\n",
       " '엇',\n",
       " '다는데',\n",
       " '어떻',\n",
       " '게',\n",
       " '되',\n",
       " 'ㄴ',\n",
       " '건',\n",
       " '가요',\n",
       " '신속',\n",
       " '한',\n",
       " '답변',\n",
       " '부탁',\n",
       " '하',\n",
       " 'ㅂ니다']"
      ]
     },
     "execution_count": 193,
     "metadata": {},
     "output_type": "execute_result"
    }
   ],
   "source": [
    "# x_train[0]"
   ]
  },
  {
   "cell_type": "code",
   "execution_count": 194,
   "metadata": {},
   "outputs": [
    {
     "name": "stdout",
     "output_type": "stream",
     "text": [
      "term_frequency calculation time = 716.2085030078888\n"
     ]
    }
   ],
   "source": [
    "import time\n",
    "def term_frequency(doc):\n",
    "    return [doc.count(word) for word in selected_words]\n",
    "s = time.time()\n",
    "train_x = [term_frequency(d) for d in x_train]\n",
    "test_x = [term_frequency(d) for d in x_test]\n",
    "train_y = np.array(train_data['rank'])\n",
    "test_y = np.array(test_data['rank'])\n",
    "print('term_frequency calculation time = {}'.format(time.time()-s))"
   ]
  },
  {
   "cell_type": "code",
   "execution_count": 195,
   "metadata": {},
   "outputs": [
    {
     "data": {
      "text/plain": [
       "26083"
      ]
     },
     "execution_count": 195,
     "metadata": {},
     "output_type": "execute_result"
    }
   ],
   "source": [
    "len(train_x[0])"
   ]
  },
  {
   "cell_type": "code",
   "execution_count": 196,
   "metadata": {
    "scrolled": true
   },
   "outputs": [],
   "source": [
    "import numpy as np\n",
    "\n",
    "x_train = np.asarray(train_x).astype('float32')\n",
    "x_test = np.asarray(test_x).astype('float32')\n",
    "\n",
    "y_train = np.asarray(train_y).astype('float32')\n",
    "y_test = np.asarray(test_y).astype('float32')"
   ]
  },
  {
   "cell_type": "code",
   "execution_count": 197,
   "metadata": {},
   "outputs": [],
   "source": [
    "import argparse\n",
    "import sys\n",
    "\n",
    "from tensorflow.keras import models\n",
    "# from tensorflow.keras.models import Sequential, Model\n",
    "from tensorflow.keras import layers\n",
    "# from tensorflow.keras.layers import Dense, Embedding, Input, Reshape, Flatten, Dropout\n",
    "from tensorflow.keras import optimizers\n",
    "from tensorflow.keras.optimizers import Adagrad, Adam, SGD, RMSprop\n",
    "from tensorflow.keras import losses\n",
    "from tensorflow.keras import metrics\n",
    "from tensorflow.keras.callbacks import EarlyStopping, ReduceLROnPlateau, LearningRateScheduler, ModelCheckpoint\n",
    "from tensorflow.keras.utils import multi_gpu_model\n",
    "\n",
    "# sequence model building\n",
    "def build_seq_model(args):\n",
    "    model = models.Sequential()\n",
    "    model.add(layers.Dense(1024, activation=args.activation, kernel_initializer='he_normal', input_shape=(args.vocab_size,)))\n",
    "    model.add(layers.Dropout(args.dropout))\n",
    "    model.add(layers.Dense(512, kernel_initializer='he_normal',activation=args.activation))\n",
    "    model.add(layers.Dropout(args.dropout))\n",
    "    model.add(layers.Dense(256, kernel_initializer='he_normal',activation=args.activation))\n",
    "    model.add(layers.Dropout(args.dropout))\n",
    "    model.add(layers.Dense(1, activation='sigmoid'))\n",
    "    try:\n",
    "        model = multi_gpu_model(model, cpu_relocation = True)\n",
    "#         model = multi_gpu_model(model, gpus = 2, cpu_relocation = True)\n",
    "        print('#'*100)\n",
    "        print('====> training using multiple gpu')\n",
    "        print('#'*50)\n",
    "    except:\n",
    "        print('#'*100)\n",
    "        print('====> training using single gpu or cpu')\n",
    "        print('#'*50)\n",
    "    return model\n",
    "\n",
    "# functional_api_model_building\n",
    "def build_api_model(args):\n",
    "    inputs = Input(shape = (args.vocab_size,))\n",
    "    output = layers.Dense(1024, activation=args.activation, kernel_initializer='he_normal')(inputs)\n",
    "    output = layers.Dropout(args.dropout)(output)\n",
    "    output = layers.Dense(512, kernel_initializer='he_normal',activation=args.activation)(output)\n",
    "    output = layers.Dropout(args.dropout)(output)\n",
    "    output = layers.Dense(256, kernel_initializer='he_normal',activation=args.activation)(output)\n",
    "    output = layers.Dropout(args.dropout)(output)\n",
    "    output = layers.Dense(1, activation='sigmoid')(output)\n",
    "    model = models.Model(inputs, output)\n",
    "    try:\n",
    "        model = multi_gpu_model(model, cpu_relocation = True)\n",
    "#         model = multi_gpu_model(model, gpus = 2, cpu_relocation = True)\n",
    "        print('#'*50)\n",
    "        print('====> training using multiple gpu')\n",
    "        print('#'*50)\n",
    "    except:\n",
    "        print('#'*50)\n",
    "        print('====> training using single gpu or cpu')\n",
    "        print('#'*50)\n",
    "    return model\n",
    "\n",
    "# bow_model =build_model()\n",
    "\n",
    "# bow_model.fit(x_train, y_train, epochs=10, batch_size=512, validation_split = 0.2)\n",
    "# results = model.evaluate(x_test, y_test)"
   ]
  },
  {
   "cell_type": "code",
   "execution_count": 198,
   "metadata": {
    "scrolled": false
   },
   "outputs": [
    {
     "name": "stdout",
     "output_type": "stream",
     "text": [
      "##################################################\n",
      "====> training using single gpu or cpu\n",
      "##################################################\n",
      "Model: \"model_14\"\n",
      "_________________________________________________________________\n",
      "Layer (type)                 Output Shape              Param #   \n",
      "=================================================================\n",
      "input_26 (InputLayer)        [(None, 26083)]           0         \n",
      "_________________________________________________________________\n",
      "dense_151 (Dense)            (None, 1024)              26710016  \n",
      "_________________________________________________________________\n",
      "dropout_75 (Dropout)         (None, 1024)              0         \n",
      "_________________________________________________________________\n",
      "dense_152 (Dense)            (None, 512)               524800    \n",
      "_________________________________________________________________\n",
      "dropout_76 (Dropout)         (None, 512)               0         \n",
      "_________________________________________________________________\n",
      "dense_153 (Dense)            (None, 256)               131328    \n",
      "_________________________________________________________________\n",
      "dropout_77 (Dropout)         (None, 256)               0         \n",
      "_________________________________________________________________\n",
      "dense_154 (Dense)            (None, 1)                 257       \n",
      "=================================================================\n",
      "Total params: 27,366,401\n",
      "Trainable params: 27,366,401\n",
      "Non-trainable params: 0\n",
      "_________________________________________________________________\n",
      "None\n",
      "Train on 39371 samples, validate on 9843 samples\n",
      "Epoch 1/50\n",
      "38912/39371 [============================>.] - ETA: 0s - loss: 0.2526 - binary_accuracy: 0.8983\n",
      "Epoch 00001: val_loss improved from inf to 0.16072, saving model to model/cp_2020-03-04.ckpt\n",
      "39371/39371 [==============================] - 29s 726us/sample - loss: 0.2521 - binary_accuracy: 0.8985 - val_loss: 0.1607 - val_binary_accuracy: 0.9399\n",
      "Epoch 2/50\n",
      "38912/39371 [============================>.] - ETA: 0s - loss: 0.1109 - binary_accuracy: 0.9635\n",
      "Epoch 00002: val_loss did not improve from 0.16072\n",
      "39371/39371 [==============================] - 22s 568us/sample - loss: 0.1108 - binary_accuracy: 0.9635 - val_loss: 0.1687 - val_binary_accuracy: 0.9411\n",
      "Epoch 3/50\n",
      "38912/39371 [============================>.] - ETA: 0s - loss: 0.0614 - binary_accuracy: 0.9806\n",
      "Epoch 00003: val_loss did not improve from 0.16072\n",
      "39371/39371 [==============================] - 23s 592us/sample - loss: 0.0610 - binary_accuracy: 0.9808 - val_loss: 0.1987 - val_binary_accuracy: 0.9370\n",
      "Epoch 4/50\n",
      "38912/39371 [============================>.] - ETA: 0s - loss: 0.0306 - binary_accuracy: 0.9897\n",
      "Epoch 00004: val_loss did not improve from 0.16072\n",
      "39371/39371 [==============================] - 22s 554us/sample - loss: 0.0304 - binary_accuracy: 0.9898 - val_loss: 0.2578 - val_binary_accuracy: 0.9342\n",
      "Epoch 5/50\n",
      "38912/39371 [============================>.] - ETA: 0s - loss: 0.0150 - binary_accuracy: 0.9953\n",
      "Epoch 00005: val_loss did not improve from 0.16072\n",
      "39371/39371 [==============================] - 21s 526us/sample - loss: 0.0150 - binary_accuracy: 0.9953 - val_loss: 0.2760 - val_binary_accuracy: 0.9350\n",
      "Epoch 6/50\n",
      "38912/39371 [============================>.] - ETA: 0s - loss: 0.0099 - binary_accuracy: 0.9969Restoring model weights from the end of the best epoch.\n",
      "\n",
      "Epoch 00006: val_loss did not improve from 0.16072\n",
      "39371/39371 [==============================] - 22s 548us/sample - loss: 0.0100 - binary_accuracy: 0.9969 - val_loss: 0.3012 - val_binary_accuracy: 0.9358\n",
      "Epoch 00006: early stopping\n"
     ]
    },
    {
     "data": {
      "text/plain": [
       "<tensorflow.python.keras.callbacks.History at 0x6f98cb160>"
      ]
     },
     "execution_count": 198,
     "metadata": {},
     "output_type": "execute_result"
    }
   ],
   "source": [
    "args = argparse.ArgumentParser()\n",
    "# hyperparameter setup\n",
    "args.vocab_size = len(text.vocab())\n",
    "args.learner = 'adam'\n",
    "args.activation = 'relu'\n",
    "args.learning_rate = 0.001\n",
    "args.dropout = 0.3\n",
    "args.train_batch_size = 512\n",
    "args.test_batch_size = 512\n",
    "args.epoch = 50\n",
    "args.validation_split = 0.2\n",
    "\n",
    "\n",
    "\n",
    "# model save folder\n",
    "model_dir = 'model'\n",
    "if not os.path.exists(model_dir):\n",
    "    os.makedirs(model_dir)\n",
    "    \n",
    "checkpoint_path = 'model/cp_{}.ckpt'.format(time.strftime('%Y-%m-%d',time.localtime(time.time())))\n",
    "checkpoint_dir = os.path.dirname(checkpoint_path)\n",
    "\n",
    "# callback setup\n",
    "earlystop = EarlyStopping(monitor = 'val_loss',\n",
    "                          min_delta = 0,\n",
    "                          patience = 5,\n",
    "                          verbose = 1,\n",
    "                          restore_best_weights = True)\n",
    "\n",
    "reduce_lr = ReduceLROnPlateau(monitor = 'val_loss',\n",
    "                                 factor = 0.2,\n",
    "                                 patience = 3,\n",
    "                                 min_lr = 0.00001)\n",
    "\n",
    "cp_callback = ModelCheckpoint(checkpoint_path,\n",
    "                             save_weights_only = True,\n",
    "                             save_best_only = True,\n",
    "                             verbose = 1)\n",
    "# build model\n",
    "bow_model = build_api_model(args)\n",
    "\n",
    "print(bow_model.summary())\n",
    "\n",
    "if args.learner.lower() == \"adagrad\":\n",
    "    bow_model.compile(optimizer=optimizers.Adagrad(lr=args.learning_rate),\n",
    "                 loss=losses.binary_crossentropy,\n",
    "                 metrics=[metrics.binary_accuracy])\n",
    "elif args.learner.lower() == \"rmsprop\":\n",
    "    bow_model.compile(optimizer=optimizers.RMSprop(lr=args.arglearning_rate),\n",
    "                 loss=losses.binary_crossentropy,\n",
    "                 metrics=[metrics.binary_accuracy])    \n",
    "elif args.learner.lower() == \"adam\":\n",
    "    bow_model.compile(optimizer=optimizers.Adam(lr=args.learning_rate),\n",
    "                 loss=losses.binary_crossentropy,\n",
    "                 metrics=[metrics.binary_accuracy])\n",
    "else:\n",
    "    args.bow_model.compile(optimizer=optimizers.SGD(lr=args.learning_rate),\n",
    "                 loss=losses.binary_crossentropy,\n",
    "                 metrics=[metrics.binary_accuracy])\n",
    "\n",
    "history = bow_model.fit(x_train, y_train, \n",
    "              epochs=args.epoch, \n",
    "              batch_size=args.train_batch_size, \n",
    "              validation_split = args.validation_split, \n",
    "              callbacks = [earlystop, reduce_lr, cp_callback])"
   ]
  },
  {
   "cell_type": "code",
   "execution_count": 199,
   "metadata": {
    "scrolled": true
   },
   "outputs": [
    {
     "name": "stdout",
     "output_type": "stream",
     "text": [
      "5469/5469 [==============================] - 2s 274us/sample - loss: 0.7039 - binary_accuracy: 0.4917\n",
      "loss = 0.704 and acc = 0.492\n",
      "5469/5469 [==============================] - 1s 145us/sample - loss: 0.1698 - binary_accuracy: 0.9340\n",
      "loss = 0.170 and acc = 0.934\n"
     ]
    }
   ],
   "source": [
    "bow_model = build_model()\n",
    "bow_model.compile(optimizer=optimizers.Adam(lr=learning_rate),\n",
    "             loss=losses.binary_crossentropy,\n",
    "             metrics=[metrics.binary_accuracy])\n",
    "loss, acc = bow_model.evaluate(x_test, y_test, batch_size = args.test_batch_size, verbose = 1)\n",
    "print('loss = {:.3f} and acc = {:.3f}'.format(loss,acc))\n",
    "bow_model.load_weights(checkpoint_path)\n",
    "loss, acc = bow_model.evaluate(x_test, y_test, batch_size = args.test_batch_size, verbose = 1)\n",
    "print('loss = {:.3f} and acc = {:.3f}'.format(loss,acc))"
   ]
  },
  {
   "cell_type": "code",
   "execution_count": 200,
   "metadata": {},
   "outputs": [],
   "source": [
    "def predict_pos_neg(review):\n",
    "    token = ko_tokenizer.morphs(review)\n",
    "    tf = term_frequency(token)\n",
    "    data = np.expand_dims(np.asarray(tf).astype('float32'), axis=0)\n",
    "    score = float(bow_model.predict(data))\n",
    "    if(score > 0.5):\n",
    "        print(\"[{}]는 {:.2f}% 확률로 긍정 예측\\n\".format(review, score * 100))\n",
    "    else:\n",
    "        print(\"[{}]는 {:.2f}% 확률로 부정 예측;\\n\".format(review, (1 - score) * 100))"
   ]
  },
  {
   "cell_type": "code",
   "execution_count": 171,
   "metadata": {},
   "outputs": [
    {
     "name": "stdout",
     "output_type": "stream",
     "text": [
      "남편이 너무 좋아해요\n",
      "[남편이 너무 좋아해요]는 99.11% 확률로 긍정 예측\n",
      "\n",
      "배송이 느려요\n",
      "[배송이 느려요]는 95.83% 확률로 부정 예측;\n",
      "\n",
      "배송이 느리기 하지만 아이가 편하게 잘쓰고 있습니다.\n",
      "[배송이 느리기 하지만 아이가 편하게 잘쓰고 있습니다.]는 99.13% 확률로 긍정 예측\n",
      "\n",
      "배송이 느려요\n",
      "[배송이 느려요]는 95.83% 확률로 부정 예측;\n",
      "\n",
      "비추입니다.\n",
      "[비추입니다.]는 93.79% 확률로 부정 예측;\n",
      "\n",
      "정말 최악이네요\n",
      "[정말 최악이네요]는 98.07% 확률로 부정 예측;\n",
      "\n",
      "다시 구매해요\n",
      "[다시 구매해요]는 54.93% 확률로 긍정 예측\n",
      "\n",
      "재구매 했습니다.\n",
      "[재구매 했습니다.]는 91.23% 확률로 긍정 예측\n",
      "\n",
      "늘 쓰는 상품입니다.\n",
      "[늘 쓰는 상품입니다.]는 95.25% 확률로 긍정 예측\n",
      "\n",
      "exit\n"
     ]
    }
   ],
   "source": [
    "while 1:\n",
    "    tmp = input()\n",
    "    if tmp =='exit':\n",
    "        break \n",
    "    predict_pos_neg(tmp) "
   ]
  },
  {
   "cell_type": "code",
   "execution_count": 5,
   "metadata": {},
   "outputs": [
    {
     "name": "stdout",
     "output_type": "stream",
     "text": [
      "Model: \"sequential_7\"\n",
      "_________________________________________________________________\n",
      "Layer (type)                 Output Shape              Param #   \n",
      "=================================================================\n",
      "lstm_10 (LSTM)               (None, 6, 16)             1728      \n",
      "_________________________________________________________________\n",
      "max_pooling1d_4 (MaxPooling1 (None, 2, 16)             0         \n",
      "_________________________________________________________________\n",
      "lstm_11 (LSTM)               (None, 10)                1080      \n",
      "_________________________________________________________________\n",
      "dense_7 (Dense)              (None, 1)                 11        \n",
      "=================================================================\n",
      "Total params: 2,819\n",
      "Trainable params: 2,819\n",
      "Non-trainable params: 0\n",
      "_________________________________________________________________\n",
      "None\n",
      "Model: \"sequential_8\"\n",
      "_________________________________________________________________\n",
      "Layer (type)                 Output Shape              Param #   \n",
      "=================================================================\n",
      "lstm_12 (LSTM)               (None, 6, 16)             1728      \n",
      "_________________________________________________________________\n",
      "global_max_pooling1d_4 (Glob (None, 16)                0         \n",
      "_________________________________________________________________\n",
      "dense_8 (Dense)              (None, 1)                 17        \n",
      "=================================================================\n",
      "Total params: 1,745\n",
      "Trainable params: 1,745\n",
      "Non-trainable params: 0\n",
      "_________________________________________________________________\n",
      "None\n"
     ]
    }
   ],
   "source": [
    "import numpy as np\n",
    "from keras.models import Sequential\n",
    "from keras.layers import Dense, LSTM, GlobalMaxPooling1D, MaxPooling1D\n",
    "D = np.random.rand(10, 6, 10)\n",
    "\n",
    "model = Sequential()\n",
    "model.add(LSTM(16, input_shape=(6, 10), return_sequences=True))\n",
    "model.add(MaxPooling1D(pool_size=3, strides=2))\n",
    "model.add(LSTM(10))\n",
    "model.add(Dense(1))\n",
    "model.compile(loss='binary_crossentropy', optimizer='sgd')\n",
    "\n",
    "# print the summary to see how the dimension change after the layers are \n",
    "# applied\n",
    "\n",
    "print(model.summary())\n",
    "\n",
    "# try a model with GlobalMaxPooling1D now\n",
    "\n",
    "model = Sequential()\n",
    "model.add(LSTM(16, input_shape=(6, 10), return_sequences=True))\n",
    "model.add(GlobalMaxPooling1D())\n",
    "model.add(Dense(1))\n",
    "model.compile(loss='binary_crossentropy', optimizer='sgd')\n",
    "\n",
    "print(model.summary())"
   ]
  },
  {
   "cell_type": "code",
   "execution_count": 6,
   "metadata": {},
   "outputs": [
    {
     "name": "stdout",
     "output_type": "stream",
     "text": [
      "Loading data...\n",
      "25000 train sequences\n",
      "25000 test sequences\n",
      "Pad sequences (samples x time)\n",
      "x_train shape: (25000, 400)\n",
      "x_test shape: (25000, 400)\n",
      "Build model...\n",
      "Model: \"sequential_9\"\n",
      "_________________________________________________________________\n",
      "Layer (type)                 Output Shape              Param #   \n",
      "=================================================================\n",
      "embedding_1 (Embedding)      (None, 400, 50)           250000    \n",
      "_________________________________________________________________\n",
      "dropout_1 (Dropout)          (None, 400, 50)           0         \n",
      "_________________________________________________________________\n",
      "conv1d_1 (Conv1D)            (None, 398, 250)          37750     \n",
      "_________________________________________________________________\n",
      "global_max_pooling1d_5 (Glob (None, 250)               0         \n",
      "_________________________________________________________________\n",
      "dense_9 (Dense)              (None, 250)               62750     \n",
      "_________________________________________________________________\n",
      "dropout_2 (Dropout)          (None, 250)               0         \n",
      "_________________________________________________________________\n",
      "activation_1 (Activation)    (None, 250)               0         \n",
      "_________________________________________________________________\n",
      "dense_10 (Dense)             (None, 1)                 251       \n",
      "_________________________________________________________________\n",
      "activation_2 (Activation)    (None, 1)                 0         \n",
      "=================================================================\n",
      "Total params: 350,751\n",
      "Trainable params: 350,751\n",
      "Non-trainable params: 0\n",
      "_________________________________________________________________\n"
     ]
    }
   ],
   "source": [
    "from __future__ import print_function\n",
    "\n",
    "from keras.preprocessing import sequence\n",
    "from keras.models import Sequential\n",
    "from keras.layers import Dense, Dropout, Activation\n",
    "from keras.layers import Embedding\n",
    "from keras.layers import Conv1D, GlobalMaxPooling1D\n",
    "from keras.datasets import imdb\n",
    "\n",
    "# set parameters:\n",
    "max_features = 5000\n",
    "maxlen = 400\n",
    "batch_size = 32\n",
    "embedding_dims = 50\n",
    "filters = 250\n",
    "kernel_size = 3\n",
    "hidden_dims = 250\n",
    "epochs = 2\n",
    "\n",
    "print('Loading data...')\n",
    "(x_train, y_train), (x_test, y_test) = imdb.load_data(num_words=max_features)\n",
    "print(len(x_train), 'train sequences')\n",
    "print(len(x_test), 'test sequences')\n",
    "\n",
    "print('Pad sequences (samples x time)')\n",
    "x_train = sequence.pad_sequences(x_train, maxlen=maxlen)\n",
    "x_test = sequence.pad_sequences(x_test, maxlen=maxlen)\n",
    "print('x_train shape:', x_train.shape)\n",
    "print('x_test shape:', x_test.shape)\n",
    "\n",
    "print('Build model...')\n",
    "model = Sequential()\n",
    "\n",
    "# we start off with an efficient embedding layer which maps\n",
    "# our vocab indices into embedding_dims dimensions\n",
    "model.add(Embedding(max_features,\n",
    "                    embedding_dims,\n",
    "                    input_length=maxlen))\n",
    "model.add(Dropout(0.2))\n",
    "\n",
    "# we add a Convolution1D, which will learn filters\n",
    "# word group filters of size filter_length:\n",
    "model.add(Conv1D(filters,\n",
    "                 kernel_size,\n",
    "                 padding='valid',\n",
    "                 activation='relu',\n",
    "                 strides=1))\n",
    "# we use max pooling:\n",
    "model.add(GlobalMaxPooling1D())\n",
    "\n",
    "# We add a vanilla hidden layer:\n",
    "model.add(Dense(hidden_dims))\n",
    "model.add(Dropout(0.2))\n",
    "model.add(Activation('relu'))\n",
    "\n",
    "# We project onto a single unit output layer, and squash it with a sigmoid:\n",
    "model.add(Dense(1))\n",
    "model.add(Activation('sigmoid'))\n",
    "model.summary()"
   ]
  },
  {
   "cell_type": "code",
   "execution_count": null,
   "metadata": {},
   "outputs": [],
   "source": []
  },
  {
   "cell_type": "code",
   "execution_count": null,
   "metadata": {},
   "outputs": [],
   "source": []
  }
 ],
 "metadata": {
  "kernelspec": {
   "display_name": "ml",
   "language": "python",
   "name": "ml"
  },
  "language_info": {
   "codemirror_mode": {
    "name": "ipython",
    "version": 3
   },
   "file_extension": ".py",
   "mimetype": "text/x-python",
   "name": "python",
   "nbconvert_exporter": "python",
   "pygments_lexer": "ipython3",
   "version": "3.6.7"
  }
 },
 "nbformat": 4,
 "nbformat_minor": 2
}
